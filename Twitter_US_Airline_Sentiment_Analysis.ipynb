{
  "nbformat": 4,
  "nbformat_minor": 0,
  "metadata": {
    "colab": {
      "provenance": [],
      "authorship_tag": "ABX9TyOwRM+e/dBi9TaBjp4FojUK",
      "include_colab_link": true
    },
    "kernelspec": {
      "name": "python3",
      "display_name": "Python 3"
    },
    "language_info": {
      "name": "python"
    }
  },
  "cells": [
    {
      "cell_type": "markdown",
      "metadata": {
        "id": "view-in-github",
        "colab_type": "text"
      },
      "source": [
        "<a href=\"https://colab.research.google.com/github/shashi1994/Data-Science-/blob/main/Twitter_US_Airline_Sentiment_Analysis.ipynb\" target=\"_parent\"><img src=\"https://colab.research.google.com/assets/colab-badge.svg\" alt=\"Open In Colab\"/></a>"
      ]
    },
    {
      "cell_type": "code",
      "source": [
        "import pandas as pd\n",
        "from sklearn.ensemble import RandomForestClassifier\n",
        "from nltk.classify.scikitlearn import SklearnClassifier\n",
        "from sklearn.feature_extraction.text import CountVectorizer\n",
        "from sklearn.feature_extraction.text import TfidfVectorizer\n",
        "import nltk\n",
        "import numpy as np"
      ],
      "metadata": {
        "id": "K0d0Z5YkLExo"
      },
      "execution_count": null,
      "outputs": []
    },
    {
      "cell_type": "code",
      "source": [
        "training_data = pd.read_csv('/content/0000000000002747_training_twitter_x_y_train.csv')\n",
        "testing_data = pd.read_csv('/content/0000000000002747_test_twitter_x_test.csv')\n"
      ],
      "metadata": {
        "id": "iL4J63XWiT0p"
      },
      "execution_count": null,
      "outputs": []
    },
    {
      "cell_type": "code",
      "source": [
        "training_data"
      ],
      "metadata": {
        "id": "B1arauKOicbz"
      },
      "execution_count": null,
      "outputs": []
    },
    {
      "cell_type": "code",
      "source": [
        "testing_data"
      ],
      "metadata": {
        "id": "bp8lPu9BicgZ"
      },
      "execution_count": null,
      "outputs": []
    },
    {
      "cell_type": "code",
      "source": [
        "training_documents=training_data['text'].values\n",
        "training_categories=training_data['airline_sentiment'].values\n",
        "testing_documents=testing_data['text'].values"
      ],
      "metadata": {
        "id": "hNkFoPPIjE26"
      },
      "execution_count": null,
      "outputs": []
    },
    {
      "cell_type": "code",
      "source": [
        "count_vect=TfidfVectorizer(max_features=5000, max_df=0.8, min_df=0.001)\n",
        "x_train=count_vect.fit_transform(training_documents)\n",
        "x_test=count_vect.transform(testing_documents)\n",
        "y_train=training_categories"
      ],
      "metadata": {
        "id": "BxHhxy0ZjE62"
      },
      "execution_count": null,
      "outputs": []
    },
    {
      "cell_type": "code",
      "source": [
        "clf=RandomForestClassifier(n_estimators=2000, n_jobs=-1)\n",
        "clf.fit(x_train, y_train)\n",
        "y_test=clf.predict(x_test)"
      ],
      "metadata": {
        "id": "CmTYd8t9jE97"
      },
      "execution_count": null,
      "outputs": []
    },
    {
      "cell_type": "code",
      "source": [
        "y_test"
      ],
      "metadata": {
        "colab": {
          "base_uri": "https://localhost:8080/"
        },
        "id": "G-2Y5MWOjQiZ",
        "outputId": "3ad3da0a-392a-470f-8419-6fbd0631430a"
      },
      "execution_count": null,
      "outputs": [
        {
          "output_type": "execute_result",
          "data": {
            "text/plain": [
              "array(['negative', 'negative', 'negative', ..., 'negative', 'positive',\n",
              "       'negative'], dtype=object)"
            ]
          },
          "metadata": {},
          "execution_count": 18
        }
      ]
    },
    {
      "cell_type": "code",
      "source": [
        "np.savetxt(fname='predicted.csv', X=y_test, fmt='%s')"
      ],
      "metadata": {
        "id": "Zxe8UPe9jXc3"
      },
      "execution_count": null,
      "outputs": []
    },
    {
      "cell_type": "code",
      "source": [
        "def __init__(self, units, input_dim, activation):\n",
        "    w_init = tf.random_normal_initializer()\n",
        "    self.w = tf.Variable(initial_value=w_init(shape = (input_dim, units), dtype = 'float32'), trainable=False)\n",
        "    b_init = tf.random_normal_initializer()\n",
        "    self.b = tf.Variable(initial_value=b_init(shape = (units,), dtype = 'float32'), trainable= False)\n",
        "    self.activation = activation"
      ],
      "metadata": {
        "id": "7O9x_FHAQiL4"
      },
      "execution_count": null,
      "outputs": []
    }
  ]
}